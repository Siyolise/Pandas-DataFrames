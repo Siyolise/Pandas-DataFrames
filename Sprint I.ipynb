{
 "cells": [
  {
   "cell_type": "code",
   "execution_count": 13,
   "metadata": {},
   "outputs": [],
   "source": [
    "import pandas as pd\n",
    "from pandas import DataFrame"
   ]
  },
  {
   "cell_type": "code",
   "execution_count": 14,
   "metadata": {
    "scrolled": true
   },
   "outputs": [
    {
     "data": {
      "text/html": [
       "<div>\n",
       "<style scoped>\n",
       "    .dataframe tbody tr th:only-of-type {\n",
       "        vertical-align: middle;\n",
       "    }\n",
       "\n",
       "    .dataframe tbody tr th {\n",
       "        vertical-align: top;\n",
       "    }\n",
       "\n",
       "    .dataframe thead th {\n",
       "        text-align: right;\n",
       "    }\n",
       "</style>\n",
       "<table border=\"1\" class=\"dataframe\">\n",
       "  <thead>\n",
       "    <tr style=\"text-align: right;\">\n",
       "      <th></th>\n",
       "      <th>Product</th>\n",
       "      <th>Items</th>\n",
       "    </tr>\n",
       "  </thead>\n",
       "  <tbody>\n",
       "    <tr>\n",
       "      <th>a</th>\n",
       "      <td>Chips</td>\n",
       "      <td>[Simba, Lays]</td>\n",
       "    </tr>\n",
       "    <tr>\n",
       "      <th>b</th>\n",
       "      <td>Cooldrinks</td>\n",
       "      <td>[Coke, Fanta]</td>\n",
       "    </tr>\n",
       "    <tr>\n",
       "      <th>c</th>\n",
       "      <td>Chocolates</td>\n",
       "      <td>[Cadbury, Tex]</td>\n",
       "    </tr>\n",
       "    <tr>\n",
       "      <th>d</th>\n",
       "      <td>Pies</td>\n",
       "      <td>[Pepper Steak, Chicken]</td>\n",
       "    </tr>\n",
       "    <tr>\n",
       "      <th>e</th>\n",
       "      <td>Fruit</td>\n",
       "      <td>[Pear, Apple, Orange]</td>\n",
       "    </tr>\n",
       "    <tr>\n",
       "      <th>f</th>\n",
       "      <td>Cupcakes</td>\n",
       "      <td>[Vanilla, Chocolate]</td>\n",
       "    </tr>\n",
       "    <tr>\n",
       "      <th>g</th>\n",
       "      <td>Veggies</td>\n",
       "      <td>[Spinach, Cabbage]</td>\n",
       "    </tr>\n",
       "  </tbody>\n",
       "</table>\n",
       "</div>"
      ],
      "text/plain": [
       "      Product                    Items\n",
       "a       Chips            [Simba, Lays]\n",
       "b  Cooldrinks            [Coke, Fanta]\n",
       "c  Chocolates           [Cadbury, Tex]\n",
       "d        Pies  [Pepper Steak, Chicken]\n",
       "e       Fruit    [Pear, Apple, Orange]\n",
       "f    Cupcakes     [Vanilla, Chocolate]\n",
       "g     Veggies       [Spinach, Cabbage]"
      ]
     },
     "execution_count": 14,
     "metadata": {},
     "output_type": "execute_result"
    }
   ],
   "source": [
    "products = {'Product':['Chips','Cooldrinks','Chocolates',\n",
    "                        'Pies','Fruit','Cupcakes','Veggies'],\n",
    "            'Items': [['Simba','Lays'],['Coke','Fanta'],\n",
    "            ['Cadbury','Tex'],['Pepper Steak','Chicken'],\n",
    "            ['Pear','Apple','Orange'],['Vanilla','Chocolate'],\n",
    "            ['Spinach','Cabbage']]}\n",
    "            \n",
    "df = pd.DataFrame(products,index=['a','b','c','d','e','f','g'],dtype=object)\n",
    "df"
   ]
  },
  {
   "cell_type": "code",
   "execution_count": null,
   "metadata": {},
   "outputs": [],
   "source": []
  }
 ],
 "metadata": {
  "kernelspec": {
   "display_name": "Python 3",
   "language": "python",
   "name": "python3"
  }
 },
 "nbformat": 4,
 "nbformat_minor": 4
}
